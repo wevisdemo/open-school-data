{
 "cells": [
  {
   "cell_type": "code",
   "execution_count": 1,
   "metadata": {},
   "outputs": [],
   "source": [
    "from scrape_school_url import *\n",
    "import pandas as pd\n",
    "from bs4 import BeautifulSoup\n",
    "import re\n",
    "from os import path, makedirs"
   ]
  },
  {
   "cell_type": "code",
   "execution_count": 2,
   "metadata": {},
   "outputs": [],
   "source": [
    "sdi = SchoolDataIndex()"
   ]
  },
  {
   "cell_type": "code",
   "execution_count": 3,
   "metadata": {},
   "outputs": [],
   "source": [
    "school_ids = list(sdi.school_ids())"
   ]
  },
  {
   "cell_type": "code",
   "execution_count": 13,
   "metadata": {},
   "outputs": [],
   "source": [
    "interested_urls = {key: re.sub('^.*/', '', val) for key, val in SCRAPING_URLS.items()}\n",
    "\n",
    "def pref_param_dict(soup):\n",
    "  param_dict = {}\n",
    "  for anchor in soup.find_all('a'):\n",
    "    topic = [kurl for kurl, iurl in interested_urls.items() if iurl in anchor.attrs['href']]\n",
    "    if topic:\n",
    "      param_dict[topic[0]] = re.sub('^.*\\?', '', anchor.attrs['href'])\n",
    "  return param_dict"
   ]
  },
  {
   "cell_type": "code",
   "execution_count": 22,
   "metadata": {},
   "outputs": [
    {
     "data": {
      "text/plain": [
       "{'general': 'html/2022-09/general/1020080005.html',\n",
       " 'student': 'html/2022-09/student/1020080005.html',\n",
       " 'staff': 'html/2022-09/staff/1020080005.html',\n",
       " 'computer_internet': 'html/2022-09/computer_internet/1020080005.html',\n",
       " 'building': 'html/2022-09/building/1020080005.html',\n",
       " 'durable_goods': 'html/2022-09/durable_goods/1020080005.html'}"
      ]
     },
     "execution_count": 22,
     "metadata": {},
     "output_type": "execute_result"
    }
   ],
   "source": [
    "sd = load_school_data(school_ids[490], only=['general'])\n",
    "soup = load_soup(sd['general'])\n",
    "sd = load_school_data('1020080005', pref_param_dict(soup))\n",
    "sd"
   ]
  },
  {
   "cell_type": "code",
   "execution_count": 7,
   "metadata": {},
   "outputs": [],
   "source": [
    "trim_re = r'[\\:\\s]*$'"
   ]
  },
  {
   "cell_type": "code",
   "execution_count": 8,
   "metadata": {},
   "outputs": [
    {
     "data": {
      "text/plain": [
       "[{'key': 'รหัสโรงเรียน 10 หลัก', 'value': '1020080005'},\n",
       " {'key': 'รหัส Smis 8 หลัก', 'value': '20010029'},\n",
       " {'key': 'รหัส Obec 6 หลัก', 'value': '080005'},\n",
       " {'key': 'ชื่อสถานศึกษา(ไทย)', 'value': 'วัดศรีพโลทัย'},\n",
       " {'key': 'ชื่อสถานศึกษา(อังกฤษ)', 'value': 'WATSRIPALOTHAI'},\n",
       " {'key': 'ที่อยู่', 'value': 'หมู่ที่ 1 บ้านหนองไม้แดง'},\n",
       " {'key': 'ตำบล', 'value': 'หนองไม้แดง'},\n",
       " {'key': 'อำเภอ', 'value': 'เมืองชลบุรี'},\n",
       " {'key': 'จังหวัด', 'value': 'ชลบุรี'},\n",
       " {'key': 'รหัสไปรษณีย์', 'value': '20000'},\n",
       " {'key': 'โทรศัพท์', 'value': '038146124'},\n",
       " {'key': 'โทรสาร', 'value': '038146124'},\n",
       " {'key': 'ระดับที่เปิดสอน', 'value': 'อนุบาล-ประถมศึกษา'},\n",
       " {'key': 'วัน-เดือน-ปี ก่อตั้ง', 'value': '16 พฤษภาคม 2503'},\n",
       " {'key': 'อีเมล์', 'value': 'splt.school@gmail.com'},\n",
       " {'key': 'เว็บไซต์',\n",
       "  'value': [{'text': 'เว็บไซต์โรงเรียน (สารสนเทศ)',\n",
       "    'href': '../web/?School_ID=1020080005'}]},\n",
       " {'key': 'เครือข่ายพัฒนาคุณภาพการศึกษา', 'value': ''},\n",
       " {'key': 'องค์กรปกครองส่วนท้องถิ่น', 'value': 'หนองไม้แดง'},\n",
       " {'key': 'ระยะทางจากโรงเรียน ถึง เขตพื้นที่การศึกษา', 'value': '10 กม.'},\n",
       " {'key': 'ระยะทางจากโรงเรียน ถึง อำเภอ', 'value': '9 กม.'},\n",
       " {'value': '(ข้อมูล ณ วันที่ 01 พฤศจิกายน 2564 เวลา 15:21:06 น.)'}]"
      ]
     },
     "execution_count": 8,
     "metadata": {},
     "output_type": "execute_result"
    }
   ],
   "source": [
    "about_school = []\n",
    "def _clean_text(string: str) -> str:\n",
    "  string = string.strip()\n",
    "  string = re.sub(trim_re, '', string)\n",
    "  string = re.sub('\\s+',' ', string)\n",
    "  return string\n",
    "\n",
    "table = soup.find('table').find('table', attrs={'width': '521'})\n",
    "for table_row in table.find_all('tr'):\n",
    "  cells = table_row.find_all('td')\n",
    "\n",
    "  if len(cells) == 2:\n",
    "    key_name = _clean_text(cells[0].text)\n",
    "    value = _clean_text(cells[1].text)\n",
    "\n",
    "    if cells[1].find_all('a'):\n",
    "      value = [{\n",
    "        'text': a_tag.text,\n",
    "        'href': a_tag.attrs['href']}\n",
    "        for a_tag in cells[1].find_all('a') if a_tag.text]\n",
    "    \n",
    "    about_school.append({\n",
    "        'key': key_name,\n",
    "        'value': value\n",
    "      })\n",
    "  else:\n",
    "    about_school.append({'value': _clean_text(cells[0].text)})\n",
    "about_school"
   ]
  },
  {
   "cell_type": "code",
   "execution_count": 9,
   "metadata": {},
   "outputs": [],
   "source": [
    "for comment in soup.children: break\n",
    "url = re.findall('url: (.*)\\n', comment)[0]\n",
    "parent_url = re.sub('[^/]*$', '', url)"
   ]
  },
  {
   "cell_type": "code",
   "execution_count": 10,
   "metadata": {},
   "outputs": [
    {
     "data": {
      "text/plain": [
       "'1020080005.jpg'"
      ]
     },
     "execution_count": 10,
     "metadata": {},
     "output_type": "execute_result"
    }
   ],
   "source": [
    "image_file_image_re = r'(.*/|\\?.*)'\n",
    "re.sub(image_file_image_re,'','https://data.bopp-obec.info/emis/pic_school/1020080005.jpg?ivonb=42940')"
   ]
  },
  {
   "cell_type": "code",
   "execution_count": 11,
   "metadata": {},
   "outputs": [],
   "source": []
  },
  {
   "cell_type": "code",
   "execution_count": 21,
   "metadata": {},
   "outputs": [
    {
     "data": {
      "text/plain": [
       "{'general': 'html/2022-09/general/1020080005.html',\n",
       " 'student': 'html/2022-09/student/1020080005.html',\n",
       " 'staff': 'html/2022-09/staff/1020080005.html',\n",
       " 'computer_internet': 'html/2022-09/computer_internet/1020080005.html',\n",
       " 'building': 'html/2022-09/building/1020080005.html',\n",
       " 'durable_goods': 'html/2022-09/durable_goods/1020080005.html'}"
      ]
     },
     "execution_count": 21,
     "metadata": {},
     "output_type": "execute_result"
    }
   ],
   "source": [
    "load_school_data('1020080005', pref_param_dict(soup))"
   ]
  },
  {
   "cell_type": "code",
   "execution_count": 15,
   "metadata": {},
   "outputs": [],
   "source": [
    "# test_image_file_name = ['1020080005_0.jpg',\n",
    "# '1020080005_30.jpg',\n",
    "# '1020080005_390.jpg',\n",
    "# '1020080005_39.jpg',\n",
    "# '1020080005_(10).jpg',\n",
    "# '1020080005_(10).jpg',\n",
    "# '1020080005_10.jpg',\n",
    "# ]\n",
    "\n",
    "# image_file_extention_re = r'\\.[^\\.]*$'\n",
    "# [re.sub(image_file_extention_re, '', imname) for imname in test_image_file_name]"
   ]
  },
  {
   "cell_type": "code",
   "execution_count": 16,
   "metadata": {},
   "outputs": [
    {
     "data": {
      "text/plain": [
       "'School_ID=1041680824&Area_CODE2=410001'"
      ]
     },
     "execution_count": 16,
     "metadata": {},
     "output_type": "execute_result"
    }
   ],
   "source": [
    "url_test = 'https://data.bopp-obec.info/emis/schooldata-view_student.php?School_ID=1041680824&Area_CODE2=410001'\n",
    "re.sub('^.*\\?', '', url_test)"
   ]
  },
  {
   "cell_type": "code",
   "execution_count": 17,
   "metadata": {},
   "outputs": [],
   "source": [
    "def download_image(image_url: str):\n",
    "  image = requests.get(image_url).content\n",
    "  image_file_name = re.sub(image_file_image_re,'', image_url)\n",
    "  image_file_path = image_file_name\n",
    "  if is_path_existed(image_file_path):\n",
    "    return\n",
    "  #   file_ext = re.findall(image_file_extention_re, image_file_path)\n",
    "  #   print(file_ext)\n",
    "  #   if not file_ext: return\n",
    "  #   file_ext = file_ext[0]\n",
    "  #   file_name = re.sub(image_file_extention_re, '', image_file_path)\n",
    "  #   image_file_path = file_name+'_'+'0'+file_ext\n",
    "  with open(image_file_path, 'wb') as im_file:\n",
    "    im_file.write(image)"
   ]
  },
  {
   "cell_type": "code",
   "execution_count": 18,
   "metadata": {},
   "outputs": [],
   "source": [
    "for div in soup.find_all('div'):\n",
    "  if not div.find('div'):\n",
    "    if 'ผู้อำนวยการโรงเรียน' in div.text:\n",
    "      dir_name = 'principal'\n",
    "    elif 'ตราสัญลักษณ์' in div.text:\n",
    "      dir_name = 'logo'\n",
    "    else:\n",
    "      continue\n",
    "    image_src = div.find('img').attrs['src']\n",
    "    download_image(parent_url+image_src)"
   ]
  },
  {
   "cell_type": "code",
   "execution_count": null,
   "metadata": {},
   "outputs": [],
   "source": []
  },
  {
   "cell_type": "code",
   "execution_count": null,
   "metadata": {},
   "outputs": [],
   "source": []
  }
 ],
 "metadata": {
  "kernelspec": {
   "display_name": "Python 3.8.5 64-bit",
   "language": "python",
   "name": "python3"
  },
  "language_info": {
   "codemirror_mode": {
    "name": "ipython",
    "version": 3
   },
   "file_extension": ".py",
   "mimetype": "text/x-python",
   "name": "python",
   "nbconvert_exporter": "python",
   "pygments_lexer": "ipython3",
   "version": "3.8.5"
  },
  "orig_nbformat": 4,
  "vscode": {
   "interpreter": {
    "hash": "aee8b7b246df8f9039afb4144a1f6fd8d2ca17a180786b69acc140d282b71a49"
   }
  }
 },
 "nbformat": 4,
 "nbformat_minor": 2
}
