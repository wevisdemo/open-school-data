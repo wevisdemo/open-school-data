{
 "cells": [
  {
   "cell_type": "code",
   "execution_count": 55,
   "metadata": {},
   "outputs": [],
   "source": [
    "from scrape_school_url import *\n",
    "import pandas as pd\n",
    "from bs4 import BeautifulSoup\n",
    "import re\n",
    "from os import path, makedirs"
   ]
  },
  {
   "cell_type": "code",
   "execution_count": 51,
   "metadata": {},
   "outputs": [
    {
     "data": {
      "text/plain": [
       "'2022-09'"
      ]
     },
     "execution_count": 51,
     "metadata": {},
     "output_type": "execute_result"
    }
   ],
   "source": [
    "date.today().strftime('%Y-%m')"
   ]
  },
  {
   "cell_type": "code",
   "execution_count": 80,
   "metadata": {},
   "outputs": [],
   "source": [
    "ROOT_DIR = 'html/'+date.today().strftime('%Y-%m')\n",
    "BASE_URL = 'https://data.bopp-obec.info/emis'\n",
    "SCRAPING_URLS = {\n",
    "  'general': BASE_URL+'/schooldata-view.php',\n",
    "  'student': BASE_URL+'/schooldata-view_student.php',\n",
    "  'staff': BASE_URL+'/schooldata-view.php',\n",
    "  'computer_internet': BASE_URL+'/schooldata-view_com-internet.php',\n",
    "  'building': BASE_URL+'/schooldata-view_bobec.php',\n",
    "  'durable_goods': BASE_URL+'/schooldata-view_mobec.php?'\n",
    "}\n",
    "SCHOOL_DATA_FEILDS = list(SCRAPING_URLS)"
   ]
  },
  {
   "cell_type": "code",
   "execution_count": 90,
   "metadata": {},
   "outputs": [],
   "source": [
    "def is_path_existed(file_path):\n",
    "  return path.exists(file_path)"
   ]
  },
  {
   "cell_type": "code",
   "execution_count": 91,
   "metadata": {},
   "outputs": [],
   "source": [
    "scrape_dirs = {}\n",
    "for d in SCRAPING_URLS:\n",
    "  scrape_dir = ROOT_DIR+'/'+d\n",
    "  if not is_path_existed(scrape_dir):\n",
    "    makedirs(scrape_dir)\n",
    "  scrape_dirs[d] = scrape_dir"
   ]
  },
  {
   "cell_type": "code",
   "execution_count": 61,
   "metadata": {},
   "outputs": [],
   "source": [
    "sdi = SchoolDataIndex()"
   ]
  },
  {
   "cell_type": "code",
   "execution_count": 93,
   "metadata": {},
   "outputs": [
    {
     "data": {
      "text/plain": [
       "{'general': 'html/2022-09/general/1012230159.html',\n",
       " 'student': 'html/2022-09/student/1012230159.html',\n",
       " 'staff': 'html/2022-09/staff/1012230159.html',\n",
       " 'computer_internet': 'html/2022-09/computer_internet/1012230159.html',\n",
       " 'building': 'html/2022-09/building/1012230159.html',\n",
       " 'durable_goods': 'html/2022-09/durable_goods/1012230159.html'}"
      ]
     },
     "execution_count": 93,
     "metadata": {},
     "output_type": "execute_result"
    }
   ],
   "source": [
    "def load_school_data(school_id: str):\n",
    "  \"\"\"\n",
    "  load the school data by 10 digits school id. If they exis on the local\n",
    "  then it will load from the local storage, or else it will scrape to\n",
    "  the local storage\n",
    "\n",
    "  params:\n",
    "    - school_id 10 digits school id\n",
    "  \"\"\"\n",
    "  data = {}\n",
    "  for feild in SCHOOL_DATA_FEILDS:\n",
    "    html_file_path = f'{scrape_dirs[feild]}/{school_id}.html'\n",
    "    if is_path_existed(html_file_path):\n",
    "      pass\n",
    "    else:\n",
    "      url = f'{SCRAPING_URLS[feild]}?School_ID={school_id}'\n",
    "      scrape_url(url, html_file_path)\n",
    "    data[feild] = html_file_path\n",
    "  return data\n",
    "\n",
    "load_school_data('1012230159')"
   ]
  },
  {
   "cell_type": "code",
   "execution_count": null,
   "metadata": {},
   "outputs": [],
   "source": [
    "def find_lat_lng(html_content):\n",
    "  school_lat_lng_re = f'LatLng\\((\\d+\\.\\d+,\\s*\\d+\\.\\d+)\\)'\n",
    "  re.findall(school_lat_lng_re, html_content)"
   ]
  },
  {
   "cell_type": "code",
   "execution_count": null,
   "metadata": {},
   "outputs": [],
   "source": []
  },
  {
   "cell_type": "code",
   "execution_count": 97,
   "metadata": {},
   "outputs": [
    {
     "data": {
      "text/plain": [
       "[{'key': 'รหัสโรงเรียน 10 หลัก :', 'value': '1010720019'},\n",
       " {'key': 'รหัส Smis 8 หลัก :', 'value': '10010001'},\n",
       " {'key': 'รหัส Obec 6 หลัก :', 'value': '720019'},\n",
       " {'key': 'ชื่อสถานศึกษา(ไทย) :', 'value': 'วัดชนะสงคราม'},\n",
       " {'key': 'ชื่อสถานศึกษา(อังกฤษ) :', 'value': 'Watchanasongkram'},\n",
       " {'key': 'ที่อยู่ :', 'value': 'หมู่ที่ - บ้านบางลำภู เลขที่ 77/1'},\n",
       " {'key': 'ตำบล :', 'value': 'ชนะสงคราม'},\n",
       " {'key': 'อำเภอ :', 'value': 'เขตพระนคร'},\n",
       " {'key': 'จังหวัด :', 'value': 'กรุงเทพมหานคร'},\n",
       " {'key': 'รหัสไปรษณีย์ :', 'value': '10200'},\n",
       " {'key': 'โทรศัพท์ :', 'value': '020436548'},\n",
       " {'key': 'โทรสาร :', 'value': '022820168'},\n",
       " {'key': 'ระดับที่เปิดสอน :', 'value': 'อนุบาล-ประถมศึกษา'},\n",
       " {'key': 'วัน-เดือน-ปี ก่อตั้ง :', 'value': ''},\n",
       " {'key': 'อีเมล์ :', 'value': ''},\n",
       " {'key': 'เว็บไซต์ :',\n",
       "  'value': [{'text': 'www.watchanasongkram.ac.th/',\n",
       "    'href': 'https://www.watchanasongkram.ac.th/'},\n",
       "   {'text': 'เว็บไซต์โรงเรียน (สารสนเทศ)',\n",
       "    'href': '../web/?School_ID=1010720019'}]},\n",
       " {'key': 'เครือข่ายพัฒนาคุณภาพการศึกษา :', 'value': 'ทวาราวดี'},\n",
       " {'key': 'องค์กรปกครองส่วนท้องถิ่น :', 'value': 'กรุงเทพมหานคร'},\n",
       " {'key': 'ระยะทางจากโรงเรียน ถึง เขตพื้นที่การศึกษา:', 'value': '15 กม.'},\n",
       " {'key': 'ระยะทางจากโรงเรียน ถึง อำเภอ:', 'value': '1 กม.'},\n",
       " {'value': '(ข้อมูล ณ วันที่ 11  มีนาคม 2562 เวลา 14:59:09 น.)'}]"
      ]
     },
     "execution_count": 97,
     "metadata": {},
     "output_type": "execute_result"
    }
   ],
   "source": [
    "# about_school = []\n",
    "# for table in soup.find('table').find_all('table'):\n",
    "#   if 'width' in table.attrs.keys() and table.attrs['width'] == '521':\n",
    "#     for table_row in table.find_all('tr'):\n",
    "#       cells = table_row.find_all('td')\n",
    "#       if len(cells) == 2:\n",
    "#         key_name = cells[0].text.strip()\n",
    "#         value = re.sub('\\s+',' ', cells[1].text.strip())\n",
    "\n",
    "#         if cells[1].find_all('a'):\n",
    "#           value = [{'text': a_tag.text,'href': a_tag.attrs['href']} for a_tag in cells[1].find_all('a')]\n",
    "        \n",
    "#         about_school.append({\n",
    "#             'key': key_name,\n",
    "#             'value': value\n",
    "#           })\n",
    "#       else:\n",
    "#         about_school.append({'value': cells[0].text.strip()})\n",
    "\n",
    "# about_school"
   ]
  },
  {
   "cell_type": "code",
   "execution_count": null,
   "metadata": {},
   "outputs": [],
   "source": []
  }
 ],
 "metadata": {
  "kernelspec": {
   "display_name": "Python 3.8.5 64-bit",
   "language": "python",
   "name": "python3"
  },
  "language_info": {
   "codemirror_mode": {
    "name": "ipython",
    "version": 3
   },
   "file_extension": ".py",
   "mimetype": "text/x-python",
   "name": "python",
   "nbconvert_exporter": "python",
   "pygments_lexer": "ipython3",
   "version": "3.8.5"
  },
  "orig_nbformat": 4,
  "vscode": {
   "interpreter": {
    "hash": "aee8b7b246df8f9039afb4144a1f6fd8d2ca17a180786b69acc140d282b71a49"
   }
  }
 },
 "nbformat": 4,
 "nbformat_minor": 2
}
