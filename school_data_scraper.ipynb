{
 "cells": [
  {
   "cell_type": "code",
   "execution_count": null,
   "metadata": {},
   "outputs": [],
   "source": [
    "from utils import *\n",
    "import pandas as pd\n",
    "from bs4 import BeautifulSoup\n",
    "import re\n",
    "from os import path, makedirs"
   ]
  },
  {
   "cell_type": "code",
   "execution_count": null,
   "metadata": {},
   "outputs": [],
   "source": [
    "sdi = SchoolDataIndex()"
   ]
  },
  {
   "cell_type": "code",
   "execution_count": null,
   "metadata": {},
   "outputs": [],
   "source": [
    "school_ids = list(sdi.school_ids())"
   ]
  },
  {
   "cell_type": "code",
   "execution_count": null,
   "metadata": {},
   "outputs": [],
   "source": [
    "interested_urls = {\n",
    "  key: re.sub('^.*/', '', val)\n",
    "  for key, val in SCRAPING_URLS.items()\n",
    "}\n",
    "\n",
    "def prep_param_dict(soup):\n",
    "  param_dict = {}\n",
    "  for anchor in soup.find_all('a'):\n",
    "    topic = [kurl for kurl, iurl in interested_urls.items() if iurl in anchor.attrs['href']]\n",
    "    if topic:\n",
    "      param_dict[topic[0]] = re.sub('^.*\\?', '', anchor.attrs['href'])\n",
    "  return param_dict"
   ]
  },
  {
   "cell_type": "code",
   "execution_count": null,
   "metadata": {},
   "outputs": [],
   "source": [
    "sd = load_school_data(school_ids[490], only=['general'])\n",
    "soup = load_soup(sd['general'])\n",
    "params_dict = prep_param_dict(soup)\n",
    "sd = load_school_data('1020080005', params_dict, force=True)\n",
    "sd"
   ]
  },
  {
   "cell_type": "code",
   "execution_count": null,
   "metadata": {},
   "outputs": [],
   "source": [
    "image_file_image_re = r'(.*/|\\?.*)'\n",
    "# re.sub(image_file_image_re,'','https://data.bopp-obec.info/emis/pic_school/1020080005.jpg?ivonb=42940')"
   ]
  },
  {
   "cell_type": "code",
   "execution_count": null,
   "metadata": {},
   "outputs": [],
   "source": [
    "def download_image(image_url: str, image_file_dir: str):\n",
    "  image = requests.get(image_url).content\n",
    "  image_file_name = re.sub(image_file_image_re,'', image_url)\n",
    "  image_file_path = image_file_dir+'/'+image_file_name\n",
    "  if is_path_existed(image_file_path):\n",
    "    return\n",
    "  #   file_ext = re.findall(image_file_extention_re, image_file_path)\n",
    "  #   print(file_ext)\n",
    "  #   if not file_ext: return\n",
    "  #   file_ext = file_ext[0]\n",
    "  #   file_name = re.sub(image_file_extention_re, '', image_file_path)\n",
    "  #   image_file_path = file_name+'_'+'0'+file_ext\n",
    "  with open(image_file_path, 'wb') as im_file:\n",
    "    im_file.write(image)"
   ]
  },
  {
   "cell_type": "code",
   "execution_count": null,
   "metadata": {},
   "outputs": [],
   "source": [
    "trim_re = r'[\\:\\s]*$'"
   ]
  },
  {
   "cell_type": "markdown",
   "metadata": {},
   "source": [
    "# ข้อมูลทั่วไป"
   ]
  },
  {
   "cell_type": "code",
   "execution_count": null,
   "metadata": {},
   "outputs": [],
   "source": [
    "about_school = []\n",
    "def _clean_text(string: str) -> str:\n",
    "  string = string.strip()\n",
    "  string = re.sub(trim_re, '', string)\n",
    "  string = re.sub('\\s+',' ', string)\n",
    "  return string\n",
    "\n",
    "table = soup.find('table').find('table', attrs={'width': '521'})\n",
    "for table_row in table.find_all('tr'):\n",
    "  cells = table_row.find_all('td')\n",
    "\n",
    "  if len(cells) == 2:\n",
    "    key_name = _clean_text(cells[0].text)\n",
    "    value = _clean_text(cells[1].text)\n",
    "\n",
    "    if cells[1].find_all('a'):\n",
    "      value = [{\n",
    "        'text': a_tag.text,\n",
    "        'href': a_tag.attrs['href']}\n",
    "        for a_tag in cells[1].find_all('a') if a_tag.text]\n",
    "    \n",
    "    about_school.append({\n",
    "        'key': key_name,\n",
    "        'value': value\n",
    "      })\n",
    "  else:\n",
    "    about_school.append({'value': _clean_text(cells[0].text)})\n",
    "about_school"
   ]
  },
  {
   "cell_type": "code",
   "execution_count": null,
   "metadata": {},
   "outputs": [],
   "source": [
    "for comment in soup.children: break\n",
    "url = re.findall('url: (.*)\\n', comment)[0]\n",
    "parent_url = re.sub('[^/]*$', '', url)"
   ]
  },
  {
   "cell_type": "code",
   "execution_count": null,
   "metadata": {},
   "outputs": [],
   "source": [
    "for div in soup.find_all('div'):\n",
    "  if not div.find('div'):\n",
    "    if 'ผู้อำนวยการโรงเรียน' in div.text:\n",
    "      dir_name = 'principal'\n",
    "    elif 'ตราสัญลักษณ์' in div.text:\n",
    "      dir_name = 'logo'\n",
    "    else:\n",
    "      continue\n",
    "    image_src = div.find('img').attrs['src']\n",
    "    download_image(parent_url+image_src, '.')"
   ]
  },
  {
   "cell_type": "markdown",
   "metadata": {},
   "source": [
    "# นักเรียน"
   ]
  },
  {
   "cell_type": "code",
   "execution_count": null,
   "metadata": {},
   "outputs": [],
   "source": [
    "soup = load_soup(sd['student'])"
   ]
  },
  {
   "cell_type": "code",
   "execution_count": null,
   "metadata": {},
   "outputs": [],
   "source": [
    "# all education year student data\n",
    "\n",
    "# student_data_by_edu_year_urls = []\n",
    "# for option in soup.find('select').find_all('option'):\n",
    "#   if option.attrs['value']:\n",
    "#     student_data_by_edu_year_urls\\\n",
    "#       .append(parent_url+option.attrs['value'])"
   ]
  },
  {
   "cell_type": "code",
   "execution_count": null,
   "metadata": {},
   "outputs": [],
   "source": [
    "# def student_table(soup):\n",
    "#   col_headers = ['ชั้น/เพศ', 'ชาย', 'หญิง', 'รวม', 'ห้องเรียน']\n",
    "\n",
    "#   for table in soup.find_all('table'):\n",
    "#     if table.find('table'): continue\n",
    "#     tab_col_headers = [td.text for td in table.find('tr').find_all('td')]\n",
    "#     if any([col not in tab_col_headers for col in col_headers]): continue\n",
    "\n",
    "#     table_row = []\n",
    "#     for row in table.find_all('tr'):\n",
    "#       cells = row.find_all('td')\n",
    "#       if not table_row or (table_row and len(cells) == len(table_row[0])):\n",
    "#         table_row.append([cell.text for cell in cells])\n",
    "#     return table_row"
   ]
  },
  {
   "cell_type": "code",
   "execution_count": null,
   "metadata": {},
   "outputs": [],
   "source": [
    "pd.read_html(sd['student'])[-1]"
   ]
  },
  {
   "cell_type": "markdown",
   "metadata": {},
   "source": [
    "# บุคคลากร"
   ]
  },
  {
   "cell_type": "code",
   "execution_count": null,
   "metadata": {},
   "outputs": [],
   "source": [
    "staff_df = pd.read_html(sd['staff'])[-1]\n",
    "# staff_df.columns = staff_df.iloc[0]\n",
    "# staff_df.set_index(['ตำแหน่ง',\t'วิทยฐานะ',\t'ระดับ'])\n",
    "staff_df"
   ]
  },
  {
   "cell_type": "markdown",
   "metadata": {},
   "source": [
    "# คอมพิวเตอร์ อินเทอร์เน็ต"
   ]
  },
  {
   "cell_type": "code",
   "execution_count": null,
   "metadata": {},
   "outputs": [],
   "source": [
    "soup = load_soup(sd['computer_internet'])"
   ]
  },
  {
   "cell_type": "code",
   "execution_count": null,
   "metadata": {},
   "outputs": [],
   "source": [
    "tables = pd.read_html(sd['computer_internet'])"
   ]
  },
  {
   "cell_type": "code",
   "execution_count": null,
   "metadata": {},
   "outputs": [],
   "source": [
    "tables[5]"
   ]
  },
  {
   "cell_type": "code",
   "execution_count": null,
   "metadata": {},
   "outputs": [],
   "source": [
    "tables[6]"
   ]
  },
  {
   "cell_type": "markdown",
   "metadata": {},
   "source": [
    "# ครุภัณฑ์"
   ]
  },
  {
   "cell_type": "code",
   "execution_count": null,
   "metadata": {},
   "outputs": [],
   "source": [
    "durable_goods_df = pd.read_html(sd['durable_goods'])[-2]\n",
    "durable_goods_df.columns = durable_goods_df.iloc[0]\n",
    "durable_goods_df  = durable_goods_df.iloc[1:, :]\n",
    "durable_goods_df.set_index('ลำดับ', inplace=True)\n",
    "durable_goods_df.iloc[:-1]"
   ]
  },
  {
   "cell_type": "markdown",
   "metadata": {},
   "source": [
    "# สิ่งก่อสร้าง\n",
    "\n",
    "```\n",
    "[\n",
    "  {\n",
    "    image_url: '...',\n",
    "    image_description: '...'\n",
    "  }\n",
    "]\n",
    "```"
   ]
  },
  {
   "cell_type": "code",
   "execution_count": null,
   "metadata": {},
   "outputs": [],
   "source": [
    "b_soup = load_soup(sd['building'])\n",
    "building_url = b_soup.find('iframe').attrs['src']\n",
    "parent_url = re.sub('[^/]*$', '', building_url)\n",
    "scrape_url(building_url, 'test.html');\n",
    "soup = load_soup('test.html')"
   ]
  },
  {
   "cell_type": "code",
   "execution_count": null,
   "metadata": {},
   "outputs": [],
   "source": [
    "building_data = []\n",
    "for cell in soup.find('table').find_all('td'):\n",
    "  if not cell.find('img'):\n",
    "    pair.update({\n",
    "      'image_description': [x.strip() for x in cell.text.strip().split('\\n') if x.strip()]\n",
    "    })\n",
    "    building_data.append(pair)\n",
    "  else:\n",
    "    pair = {'image_url': parent_url+cell.find('img').attrs['src']}"
   ]
  },
  {
   "cell_type": "code",
   "execution_count": null,
   "metadata": {},
   "outputs": [],
   "source": [
    "building_data"
   ]
  },
  {
   "cell_type": "code",
   "execution_count": null,
   "metadata": {},
   "outputs": [],
   "source": []
  }
 ],
 "metadata": {
  "kernelspec": {
   "display_name": "Python 3.9.7 ('base')",
   "language": "python",
   "name": "python3"
  },
  "language_info": {
   "codemirror_mode": {
    "name": "ipython",
    "version": 3
   },
   "file_extension": ".py",
   "mimetype": "text/x-python",
   "name": "python",
   "nbconvert_exporter": "python",
   "pygments_lexer": "ipython3",
   "version": "3.9.7"
  },
  "orig_nbformat": 4,
  "vscode": {
   "interpreter": {
    "hash": "06a1f1a44851178a47cec35640b473cf7ad372c57da1cea48f655073264bf03f"
   }
  }
 },
 "nbformat": 4,
 "nbformat_minor": 2
}
