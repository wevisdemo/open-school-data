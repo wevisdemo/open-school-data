{
 "cells": [
  {
   "cell_type": "code",
   "execution_count": 2,
   "metadata": {},
   "outputs": [],
   "source": [
    "from school import SchoolData\n",
    "import pandas as pd\n",
    "from typing import Dict"
   ]
  },
  {
   "cell_type": "code",
   "execution_count": 14,
   "metadata": {},
   "outputs": [],
   "source": [
    "sd = SchoolData('1020080035')"
   ]
  },
  {
   "cell_type": "code",
   "execution_count": 15,
   "metadata": {},
   "outputs": [],
   "source": [
    "data = sd.internet()"
   ]
  },
  {
   "cell_type": "code",
   "execution_count": 16,
   "metadata": {},
   "outputs": [
    {
     "data": {
      "text/plain": [
       "{'ระบบเครือข่ายอินเทอร์เน็ตที่โรงเรียนเช่าเอง': {'ผู้ให้บริการ:': '-',\n",
       "  'ประเภท:': '-',\n",
       "  'ความเร็ว:': '-',\n",
       "  'สถานะการใช้งาน:': '-',\n",
       "  'งบประมาณ/เดือน:': '-'},\n",
       " 'ระบบเครือข่าย': {'ระบบเครือข่าย (LAN):': 'มีระบบเครือข่าย LAN',\n",
       "  'ระบบเครือข่ายไร้สาย (Wireless LAN):': 'มีระบบเครือข่ายไร้สาย (Wireless LAN)'}}"
      ]
     },
     "execution_count": 16,
     "metadata": {},
     "output_type": "execute_result"
    }
   ],
   "source": [
    "data"
   ]
  },
  {
   "cell_type": "code",
   "execution_count": null,
   "metadata": {},
   "outputs": [],
   "source": []
  }
 ],
 "metadata": {
  "kernelspec": {
   "display_name": "Python 3.9.7 ('base')",
   "language": "python",
   "name": "python3"
  },
  "language_info": {
   "codemirror_mode": {
    "name": "ipython",
    "version": 3
   },
   "file_extension": ".py",
   "mimetype": "text/x-python",
   "name": "python",
   "nbconvert_exporter": "python",
   "pygments_lexer": "ipython3",
   "version": "3.9.7"
  },
  "orig_nbformat": 4,
  "vscode": {
   "interpreter": {
    "hash": "06a1f1a44851178a47cec35640b473cf7ad372c57da1cea48f655073264bf03f"
   }
  }
 },
 "nbformat": 4,
 "nbformat_minor": 2
}
