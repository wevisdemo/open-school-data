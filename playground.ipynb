{
 "cells": [
  {
   "cell_type": "code",
   "execution_count": 2,
   "metadata": {},
   "outputs": [],
   "source": [
    "from school import SchoolData\n",
    "import pandas as pd\n",
    "from typing import Dict"
   ]
  },
  {
   "cell_type": "code",
   "execution_count": 3,
   "metadata": {},
   "outputs": [],
   "source": [
    "sd = SchoolData('1020080035')"
   ]
  },
  {
   "cell_type": "code",
   "execution_count": 10,
   "metadata": {},
   "outputs": [],
   "source": [
    "data = sd.internet()"
   ]
  },
  {
   "cell_type": "code",
   "execution_count": 21,
   "metadata": {},
   "outputs": [
    {
     "data": {
      "text/plain": [
       "{'ระบบเครือข่าย': {'ระบบเครือข่าย (LAN):': 'มีระบบเครือข่าย LAN',\n",
       "  'ระบบเครือข่ายไร้สาย (Wireless LAN):': 'มีระบบเครือข่ายไร้สาย (Wireless LAN)'},\n",
       " 'ระบบเครือข่ายอินเทอร์เน็ตที่โรงเรียนเช่าเอง': {'ความเร็ว:': '-',\n",
       "  'งบประมาณ/เดือน:': '-',\n",
       "  'ประเภท:': '-',\n",
       "  'ผู้ให้บริการ:': '-',\n",
       "  'สถานะการใช้งาน:': '-'}}"
      ]
     },
     "execution_count": 21,
     "metadata": {},
     "output_type": "execute_result"
    }
   ],
   "source": [
    "new_shape_dict = dict()\n",
    "for group_x, df_x in pd.DataFrame(data).groupby([0]):\n",
    "  new_shape_dict[group_x]: Dict = dict()\n",
    "  group_x_dict = new_shape_dict[group_x]\n",
    "  for group_y, df_y in df_x.groupby(1):\n",
    "    values = df_y[2].values.tolist()\n",
    "    if len(values) == 1:\n",
    "      values = values[0]\n",
    "    group_x_dict[group_y] = values\n",
    "\n",
    "new_shape_dict"
   ]
  },
  {
   "cell_type": "code",
   "execution_count": 40,
   "metadata": {},
   "outputs": [],
   "source": [
    "computer_data: Dict = dict()\n",
    "for group_x, df_x in pd.DataFrame(computer).groupby([0]):\n",
    "  computer_data[group_x]: Dict = dict()\n",
    "  group_x_dict = computer_data[group_x]\n",
    "  for group_y, df_y in df_x.groupby(1):\n",
    "    values = df_y[2].values.tolist()\n",
    "    if len(values) == 1:\n",
    "      values = values[0]\n",
    "    group_x_dict[group_y] = values"
   ]
  },
  {
   "cell_type": "code",
   "execution_count": 41,
   "metadata": {},
   "outputs": [
    {
     "data": {
      "text/plain": [
       "{'จำนวนคอมพิวเตอรทั้งหมด': {'คอมพิวเตอร์:': '78 เครื่อง',\n",
       "  'ใช้งานได้:': '45 เครื่อง',\n",
       "  'ใช้งานไม่ได้:': '33 เครื่อง'},\n",
       " 'จำนวนคอมพิวเตอร์เพื่อการบริหารจัดการ': {'งบประมาณ สพฐ.': '0 เครื่อง',\n",
       "  'จัดหาเอง/บริจาค:': '4 เครื่อง',\n",
       "  'รวม': '4 เครื่อง',\n",
       "  'ใช้งานได้:': '4 เครื่อง',\n",
       "  'ใช้งานไม่ได้:': '0 เครื่อง'},\n",
       " 'จำนวนคอมพิวเตอร์เพื่อการเรียนการสอน': {'งบประมาณ สพฐ.': '47 เครื่อง',\n",
       "  'จัดหาเอง/บริจาค:': '27 เครื่อง',\n",
       "  'รวม': '74 เครื่อง',\n",
       "  'ใช้งานได้:': '41 เครื่อง',\n",
       "  'ใช้งานไม่ได้:': '33 เครื่อง'}}"
      ]
     },
     "execution_count": 41,
     "metadata": {},
     "output_type": "execute_result"
    }
   ],
   "source": [
    "computer_data"
   ]
  },
  {
   "cell_type": "code",
   "execution_count": null,
   "metadata": {},
   "outputs": [],
   "source": []
  }
 ],
 "metadata": {
  "kernelspec": {
   "display_name": "Python 3.9.7 ('base')",
   "language": "python",
   "name": "python3"
  },
  "language_info": {
   "codemirror_mode": {
    "name": "ipython",
    "version": 3
   },
   "file_extension": ".py",
   "mimetype": "text/x-python",
   "name": "python",
   "nbconvert_exporter": "python",
   "pygments_lexer": "ipython3",
   "version": "3.9.7"
  },
  "orig_nbformat": 4,
  "vscode": {
   "interpreter": {
    "hash": "06a1f1a44851178a47cec35640b473cf7ad372c57da1cea48f655073264bf03f"
   }
  }
 },
 "nbformat": 4,
 "nbformat_minor": 2
}
