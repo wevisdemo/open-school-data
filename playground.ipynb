{
 "cells": [
  {
   "cell_type": "code",
   "execution_count": 2,
   "metadata": {},
   "outputs": [],
   "source": [
    "import json\n",
    "from utils import *\n",
    "import re"
   ]
  },
  {
   "cell_type": "code",
   "execution_count": 3,
   "metadata": {},
   "outputs": [],
   "source": [
    "sdi = SchoolDataIndex()"
   ]
  },
  {
   "cell_type": "code",
   "execution_count": 4,
   "metadata": {},
   "outputs": [
    {
     "data": {
      "text/plain": [
       "'1010720019'"
      ]
     },
     "execution_count": 4,
     "metadata": {},
     "output_type": "execute_result"
    }
   ],
   "source": [
    "list(sdi.school_ids())[0]"
   ]
  },
  {
   "cell_type": "code",
   "execution_count": 5,
   "metadata": {},
   "outputs": [],
   "source": [
    "school_id = '1010720019'\n",
    "sd = load_school_data(school_id)"
   ]
  },
  {
   "cell_type": "code",
   "execution_count": 6,
   "metadata": {},
   "outputs": [],
   "source": [
    "soup = load_soup(sd['building'])"
   ]
  },
  {
   "cell_type": "code",
   "execution_count": 7,
   "metadata": {},
   "outputs": [],
   "source": [
    "for comment in soup.children: break\n",
    "url = re.findall('url: (.*)\\n', comment)\n",
    "parent_url = re.sub('[^/]*$', '', url[0])"
   ]
  },
  {
   "cell_type": "code",
   "execution_count": 16,
   "metadata": {},
   "outputs": [],
   "source": [
    "building_data = []\n",
    "image_id = 0\n",
    "for row in soup.find_all('div', attrs={'class': 'row'}):\n",
    "    cols = row.find_all('div', attrs={'class': 'col-md-4'})\n",
    "    for col in cols:\n",
    "        table = col.find('table')\n",
    "        if table is None:\n",
    "            continue\n",
    "        heading = table.find('th')\n",
    "        building_details = {} \n",
    "        images = col.find_all('img', attrs={'src': True})\n",
    "        if images is not None and len(images) > 0:\n",
    "            building_details['images'] = []\n",
    "\n",
    "        image_dir = SCRAPED_FILE_DIRS['building'] + '/images'\n",
    "        if not is_path_existed(image_dir):\n",
    "            makedirs(image_dir)\n",
    "        for img in images:\n",
    "            img_url = parent_url + img['src']\n",
    "            image_path = image_dir + '/' + school_id + '_' + '{:02}'.format(image_id) + '.jpg'\n",
    "            image_id += 1\n",
    "            with open(image_path, 'wb') as im_file:\n",
    "                image = requests.get(img_url).content\n",
    "                im_file.write(image)\n",
    "\n",
    "            building_details['images'].append({\n",
    "                'image_url': img_url,\n",
    "                'image_path': image_path\n",
    "            })\n",
    "\n",
    "\n",
    "        for tab_row in table.find_all('td'):\n",
    "            if tab_row.find('a') is None:\n",
    "                key, val = re.sub('\\s+', ' ', tab_row.text.strip()).split(':', maxsplit=1)\n",
    "                building_details.update({key.strip(): val.strip()})\n",
    "\n",
    "        building_data.append({\n",
    "            'name': heading.text,\n",
    "            'details': building_details\n",
    "        })"
   ]
  },
  {
   "cell_type": "code",
   "execution_count": 17,
   "metadata": {},
   "outputs": [
    {
     "data": {
      "text/plain": [
       "[{'name': 'อาคารเรียน ลำดับที่ 1 ',\n",
       "  'details': {'images': [{'image_url': 'https://bobec.bopp-obec.info/b01/7200191012124970120201029105049505747918.jpg',\n",
       "     'image_path': '2022-09/html/school/building/images/1010720019_00.jpg'},\n",
       "    {'image_url': 'https://bobec.bopp-obec.info/b01/7200191012124970120201029105116173283977.jpg',\n",
       "     'image_path': '2022-09/html/school/building/images/1010720019_01.jpg'}],\n",
       "   'แบบ': '004',\n",
       "   'จำนวนห้องตามแปลน': '18 ห้อง',\n",
       "   'สร้าง': 'พ.ศ. 2497',\n",
       "   'สภาพปัจจุบัน': 'ดี'}},\n",
       " {'name': 'อาคารเรียน ลำดับที่ 2 ',\n",
       "  'details': {'images': [{'image_url': 'https://bobec.bopp-obec.info/b01/720019201212527012020102910545160439057.jpg',\n",
       "     'image_path': '2022-09/html/school/building/images/1010720019_02.jpg'},\n",
       "    {'image_url': 'https://bobec.bopp-obec.info/b01/7200192012125270120201029105547936353701.jpg',\n",
       "     'image_path': '2022-09/html/school/building/images/1010720019_03.jpg'}],\n",
       "   'แบบ': '108 ล,108 ,ล/30,108 หรือ108 ชื่ออื่นๆ',\n",
       "   'จำนวนห้องตามแปลน': '15 ห้อง',\n",
       "   'สร้าง': 'พ.ศ. 2528',\n",
       "   'สภาพปัจจุบัน': 'ดี'}},\n",
       " {'name': 'บ้านพักภารโรง ลำดับที่ 1 ',\n",
       "  'details': {'images': [{'image_url': 'https://bobec.bopp-obec.info/b04/720019104022536042019103108194885311282.jpg',\n",
       "     'image_path': '2022-09/html/school/building/images/1010720019_04.jpg'},\n",
       "    {'image_url': 'https://bobec.bopp-obec.info/b04/7200191040225360420191031082108176968547.jpg',\n",
       "     'image_path': '2022-09/html/school/building/images/1010720019_05.jpg'}],\n",
       "   'แบบ': 'อื่น อื่น',\n",
       "   'สร้าง': 'พ.ศ. 2538',\n",
       "   'สภาพปัจจุบัน': 'ดี'}}]"
      ]
     },
     "execution_count": 17,
     "metadata": {},
     "output_type": "execute_result"
    }
   ],
   "source": [
    "building_data"
   ]
  },
  {
   "cell_type": "code",
   "execution_count": null,
   "metadata": {},
   "outputs": [],
   "source": []
  }
 ],
 "metadata": {
  "kernelspec": {
   "display_name": "Python 3.8.5 64-bit",
   "language": "python",
   "name": "python3"
  },
  "language_info": {
   "codemirror_mode": {
    "name": "ipython",
    "version": 3
   },
   "file_extension": ".py",
   "mimetype": "text/x-python",
   "name": "python",
   "nbconvert_exporter": "python",
   "pygments_lexer": "ipython3",
   "version": "3.8.5"
  },
  "orig_nbformat": 4,
  "vscode": {
   "interpreter": {
    "hash": "aee8b7b246df8f9039afb4144a1f6fd8d2ca17a180786b69acc140d282b71a49"
   }
  }
 },
 "nbformat": 4,
 "nbformat_minor": 2
}
